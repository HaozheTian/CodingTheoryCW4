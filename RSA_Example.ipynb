{
 "cells": [
  {
   "cell_type": "markdown",
   "id": "0e7dd6ae",
   "metadata": {},
   "source": [
    "## Setup\n",
    "\n",
    "We define and implement the functions related to RSA cryptography.\n",
    "\n",
    "### RSA Functions"
   ]
  },
  {
   "cell_type": "code",
   "execution_count": 1,
   "id": "d371baa1",
   "metadata": {},
   "outputs": [],
   "source": [
    "function find_inv(x, modp)\n",
    "    ~, ~, x_inv = gcdx(modp, x);  # NB x_inv is not guaranteed positive\n",
    "    x_inv = mod(x_inv, modp);   # This ensures that x_inv is strictly positive\n",
    "    return x_inv;\n",
    "end;\n",
    "\n",
    "function find_coprime(x, lowerbound = 1)\n",
    "    for i::Int = lowerbound+1:typemax(Int)\n",
    "        if gcd(i, x) == 1\n",
    "            return i;\n",
    "        end;\n",
    "    end;\n",
    "end;\n",
    "\n",
    "function RSA_gen_keys(p1, p2)\n",
    "    n = p1 * p2;\n",
    "    t = (p1 - 1) * (p2 - 1);\n",
    "    e = find_coprime(t, 10000);\n",
    "    d = find_inv(e, t)\n",
    "    public_key = (n, e);\n",
    "    private_key = d;\n",
    "    return public_key, private_key;\n",
    "end;\n",
    "\n",
    "function RSA_Encrypt(message, public_key)\n",
    "    n, e = public_key;\n",
    "    return powermod(message, e, n);\n",
    "end;\n",
    "\n",
    "function RSA_Decrypt(cipher, public_key, private_key)\n",
    "    n, e = public_key;\n",
    "    return powermod(cipher, private_key, n);\n",
    "end;"
   ]
  },
  {
   "cell_type": "markdown",
   "id": "90bdde64",
   "metadata": {},
   "source": [
    "### Key Generation"
   ]
  },
  {
   "cell_type": "code",
   "execution_count": 2,
   "id": "a6b53881",
   "metadata": {},
   "outputs": [
    {
     "name": "stdout",
     "output_type": "stream",
     "text": [
      "p1 = 70783 = 70783\n",
      "p2 = 102059 = 102059\n",
      "(public_key, private_key) = RSA_gen_keys(p1, p2) = ((7224042197, 10001), 1381788029)\n"
     ]
    }
   ],
   "source": [
    "@show p1 = 70783;\n",
    "@show p2 = 102059;\n",
    "\n",
    "@show public_key, private_key = RSA_gen_keys(p1, p2);"
   ]
  },
  {
   "cell_type": "markdown",
   "id": "c53a4b48",
   "metadata": {},
   "source": [
    "## Examples\n",
    "\n",
    "### Arithmetic\n",
    "\n",
    "We explore using RSA for homomorphic multiplication.\n",
    "\n",
    "#### Basic Multiplication\n",
    "\n",
    "Multiply two encrypted integers."
   ]
  },
  {
   "cell_type": "code",
   "execution_count": 3,
   "id": "b4057c84",
   "metadata": {},
   "outputs": [
    {
     "name": "stdout",
     "output_type": "stream",
     "text": [
      "decoded = 4\n"
     ]
    }
   ],
   "source": [
    "message = 2;\n",
    "\n",
    "n, e = public_key;\n",
    "\n",
    "ciphertext = RSA_Encrypt(message, public_key);\n",
    "\n",
    "factor = RSA_Encrypt(2, public_key);\n",
    "\n",
    "decoded = RSA_Decrypt(mod(ciphertext * factor, n), public_key, private_key);\n",
    "\n",
    "@show decoded;"
   ]
  },
  {
   "cell_type": "markdown",
   "id": "e42c89ac",
   "metadata": {},
   "source": [
    "#### Array Product\n",
    "\n",
    "Here we explore an example of finding the product of elements in an array.\n",
    "\n",
    "Imagine that Alice has some numbers which she wants to find the product of, but she is too lazy to do the calculations herself.\n",
    "\n",
    "Instead, she uses her RSA public key to encrypt the elements of the array and sends it to Bob.\n",
    "\n",
    "Bob, unaware of what he is working with, blindly multiplies the ciphertext together, and sends it back to Alice.\n",
    "\n",
    "Alice finally uses her private key to retrieve the plaintext of the result. "
   ]
  },
  {
   "cell_type": "code",
   "execution_count": 4,
   "id": "91265049",
   "metadata": {},
   "outputs": [
    {
     "name": "stdout",
     "output_type": "stream",
     "text": [
      "product = 120\n"
     ]
    }
   ],
   "source": [
    "encrypt = x -> RSA_Encrypt(x, public_key);\n",
    "\n",
    "multiply = (x, y) -> mod(Int128(x) * Int128(y), n);\n",
    "\n",
    "code = map(encrypt, [2, 3, 4, 5]);\n",
    "\n",
    "code_product = reduce(multiply, code);\n",
    "\n",
    "product = RSA_Decrypt(code_product, public_key, private_key);\n",
    "\n",
    "@show product;"
   ]
  },
  {
   "cell_type": "markdown",
   "id": "50b02cf6",
   "metadata": {},
   "source": [
    "#### Find Square Root\n",
    "\n",
    "Next we explore finding the the square root homomorphically.\n",
    "\n",
    "Imagine Alice has a number, and she wants to find the square root of it but does not want to do the work herself.\n",
    "Alice encrypts the number using her public key and sends it to Bob for him to find the EXACT square root of.\n",
    "\n",
    "Bob then searches for a number whose square is exactly the ciphertext he recieved from Alice.\n",
    "Because the encryption process in not order preserving, he cannot use the normal optimisation of searching from 2 to the square root of the number.\n",
    "\n",
    "Instead Bob must do a search of complexity $\\mathcal{O}(n)$, where $n$ is part of the public key, to find the sqaure root.\n",
    "Sadly, this is comparable to the complexity of Bob doing a brute force search to find the plaintext corresponding to the ciphertext, so perhaps this is an impracticle use case of RSA for Homomorphic computing.\n",
    "\n",
    "NOTE: This cell takes a LONG time to run."
   ]
  },
  {
   "cell_type": "code",
   "execution_count": null,
   "id": "d5ec9f6f",
   "metadata": {},
   "outputs": [],
   "source": [
    "encrypt = x -> RSA_Encrypt(x, public_key);\n",
    "multiply = (x, y) -> mod(Int128(x) * Int128(y), n)\n",
    "power = (x, y) -> mod(reduce(multiply, ones(Int, y) * x), n);\n",
    "\n",
    "message = 9;\n",
    "\n",
    "@show code = encrypt(message)\n",
    "\n",
    "_, _, limit = gcdx(code, 2)\n",
    "limit = mod(limit, n)\n",
    "\n",
    "code_root = 0;\n",
    "for i = 2:limit\n",
    "    if powermod(i, 2, n) == code\n",
    "        code_root = i\n",
    "        break;\n",
    "    end    \n",
    "end\n",
    "\n",
    "@show code_root\n",
    "root = RSA_Decrypt(code_root, public_key, private_key);\n",
    "\n",
    "@show root;"
   ]
  },
  {
   "cell_type": "markdown",
   "id": "784250da",
   "metadata": {},
   "source": [
    "### Logic\n",
    "\n",
    "\n",
    "#### AND\n",
    "\n",
    "The logical AND operation is analoguos to multiplication.\n"
   ]
  },
  {
   "cell_type": "code",
   "execution_count": 5,
   "id": "e3e5d682",
   "metadata": {},
   "outputs": [
    {
     "name": "stdout",
     "output_type": "stream",
     "text": [
      "ciphertext = 1\n",
      "state = 0\n",
      "decoded = 0\n"
     ]
    }
   ],
   "source": [
    "message = 1\n",
    "\n",
    "n, e = public_key;\n",
    "\n",
    "ciphertext = RSA_Encrypt(message, public_key);\n",
    "\n",
    "@show ciphertext\n",
    "\n",
    "state = RSA_Encrypt(0, public_key);\n",
    "\n",
    "@show state\n",
    "\n",
    "decoded = RSA_Decrypt(mod(ciphertext * state, n), public_key, private_key);\n",
    "\n",
    "@show decoded;"
   ]
  },
  {
   "cell_type": "code",
   "execution_count": 6,
   "id": "4b319479",
   "metadata": {},
   "outputs": [
    {
     "name": "stdout",
     "output_type": "stream",
     "text": [
      "ciphertext = 1\n",
      "state = 1\n",
      "decoded = 1\n"
     ]
    }
   ],
   "source": [
    "message = 1\n",
    "\n",
    "n, e = public_key;\n",
    "\n",
    "ciphertext = RSA_Encrypt(message, public_key);\n",
    "\n",
    "@show ciphertext\n",
    "\n",
    "state = RSA_Encrypt(1, public_key);\n",
    "\n",
    "@show state\n",
    "\n",
    "decoded = RSA_Decrypt(mod(ciphertext * state, n), public_key, private_key);\n",
    "\n",
    "@show decoded;"
   ]
  },
  {
   "cell_type": "markdown",
   "id": "34564c28",
   "metadata": {},
   "source": [
    "Of course, due to our basic implementation of RSA Encryption, encrypting a 1 or a 0 is pretty useless\n",
    "\n",
    "Being mathematical identities, their properties makes any ciphertext very transparent and obvious to decode.\n",
    "\n",
    "$\\text{RSE_Encrypt}(0)=0$\n",
    "\n",
    "$\\text{RSE_Encrypt}(1)=1$\n",
    "\n",
    "Instead, we could consider adding randomness to obviouscate it.\n",
    "\n",
    "In this new representation, we represent 0 as any even number, and 1 with any odd number.\n",
    "\n",
    "The behaviour of multiplying odd and even numbers mimics the truth table of an AND gate.\n",
    "\n",
    "$\\text{even} \\cdot \\text{even} = \\text{even}, \\quad 0\\land0=0$\n",
    "\n",
    "$\\text{even} \\cdot \\text{odd} = \\text{even}, \\quad 0\\land1=0$\n",
    "\n",
    "$\\text{odd} \\cdot \\text{odd} = \\text{odd}, \\quad 1\\land1=1$\n",
    "\n",
    "Bob calculates products, oblivious to their encrypted meaning (without significant work which is then not useful in quickly decoding future messages)\n",
    "\n",
    "When Alice receives and decrypts the product, she checks if the product is odd to see if it is true."
   ]
  },
  {
   "cell_type": "code",
   "execution_count": 7,
   "id": "9d9b8da0",
   "metadata": {},
   "outputs": [
    {
     "name": "stdout",
     "output_type": "stream",
     "text": [
      "ciphertext = 599909037\n",
      "cipherState = 3049898414\n",
      "decoded = 719635182\n",
      "mod(decoded, 2) = 0\n"
     ]
    }
   ],
   "source": [
    "using Random\n",
    "\n",
    "message = 1\n",
    "noise = rand(2:n-2)\n",
    "randomisedMessage = noise + mod(noise, 2) + message;\n",
    "\n",
    "ciphertext = RSA_Encrypt(randomisedMessage, public_key);\n",
    "@show ciphertext\n",
    "\n",
    "state = 0;\n",
    "noise = rand(2:n-2);\n",
    "randomisedState = noise + mod(noise, 2) + state;\n",
    "\n",
    "cipherState = RSA_Encrypt(randomisedState, public_key);\n",
    "@show cipherState\n",
    "\n",
    "decoded = RSA_Decrypt(mod(ciphertext * cipherState, n), public_key, private_key);\n",
    "@show decoded\n",
    "@show mod(decoded, 2);"
   ]
  }
 ],
 "metadata": {
  "kernelspec": {
   "display_name": "Julia 1.6.3",
   "language": "julia",
   "name": "julia-1.6"
  },
  "language_info": {
   "file_extension": ".jl",
   "mimetype": "application/julia",
   "name": "julia",
   "version": "1.6.3"
  }
 },
 "nbformat": 4,
 "nbformat_minor": 5
}
