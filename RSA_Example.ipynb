{
 "cells": [
  {
   "cell_type": "markdown",
   "id": "0e7dd6ae",
   "metadata": {},
   "source": [
    "## Setup\n",
    "\n",
    "### RSA Functions"
   ]
  },
  {
   "cell_type": "code",
   "execution_count": 1,
   "id": "d371baa1",
   "metadata": {},
   "outputs": [],
   "source": [
    "function find_inv(x, modp)\n",
    "    ~, ~, x_inv = gcdx(modp, x);  # NB x_inv is not guaranteed positive\n",
    "    x_inv = mod(x_inv, modp);   # This ensures that x_inv is strictly positive\n",
    "    return x_inv;\n",
    "end;\n",
    "\n",
    "function find_coprime(x, lowerbound = 1)\n",
    "    for i::Int = lowerbound+1:typemax(Int)\n",
    "        if gcd(i, x) == 1\n",
    "            return i;\n",
    "        end;\n",
    "    end;\n",
    "end;\n",
    "\n",
    "function RSA_gen_keys(p1, p2)\n",
    "    n = p1 * p2;\n",
    "    t = (p1 - 1) * (p2 - 1);\n",
    "    e = find_coprime(t, 10000);\n",
    "    d = find_inv(e, t)\n",
    "    public_key = (n, e);\n",
    "    private_key = d;\n",
    "    return public_key, private_key;\n",
    "end;\n",
    "\n",
    "function RSA_Encrypt(message, public_key)\n",
    "    n, e = public_key;\n",
    "    return powermod(message, e, n);\n",
    "end;\n",
    "\n",
    "function RSA_Decrypt(cipher, public_key, private_key)\n",
    "    n, e = public_key;\n",
    "    return powermod(cipher, private_key, n);\n",
    "end;"
   ]
  },
  {
   "cell_type": "markdown",
   "id": "90bdde64",
   "metadata": {},
   "source": [
    "### Key Generation"
   ]
  },
  {
   "cell_type": "code",
   "execution_count": 2,
   "id": "a6b53881",
   "metadata": {},
   "outputs": [
    {
     "name": "stdout",
     "output_type": "stream",
     "text": [
      "p1 = 70783 = 70783\n",
      "p2 = 102059 = 102059\n",
      "(public_key, private_key) = RSA_gen_keys(p1, p2) = ((7224042197, 10001), 1381788029)\n"
     ]
    }
   ],
   "source": [
    "@show p1 = 70783;\n",
    "@show p2 = 102059;\n",
    "\n",
    "@show public_key, private_key = RSA_gen_keys(p1, p2);"
   ]
  },
  {
   "cell_type": "markdown",
   "id": "c53a4b48",
   "metadata": {},
   "source": [
    "## Examples\n",
    "\n",
    "### Arithmetic\n",
    "\n",
    "#### Basic Multiplication"
   ]
  },
  {
   "cell_type": "code",
   "execution_count": 3,
   "id": "b4057c84",
   "metadata": {},
   "outputs": [
    {
     "name": "stdout",
     "output_type": "stream",
     "text": [
      "decoded = 4\n"
     ]
    },
    {
     "data": {
      "text/plain": [
       "4"
      ]
     },
     "execution_count": 3,
     "metadata": {},
     "output_type": "execute_result"
    }
   ],
   "source": [
    "message = 2\n",
    "n, e = public_key;\n",
    "ciphertext = RSA_Encrypt(message, public_key);\n",
    "factor = RSA_Encrypt(2, public_key);\n",
    "decoded = RSA_Decrypt(mod(ciphertext * factor, n), public_key, private_key);\n",
    "@show decoded\n"
   ]
  },
  {
   "cell_type": "markdown",
   "id": "e42c89ac",
   "metadata": {},
   "source": [
    "#### Array Product"
   ]
  },
  {
   "cell_type": "code",
   "execution_count": null,
   "id": "91265049",
   "metadata": {},
   "outputs": [],
   "source": [
    "encrypt = x -> RSA_Encrypt(x, public_key);\n",
    "\n",
    "multiply = (x, y) -> mod(Int128(x) * Int128(y), n)\n",
    "\n",
    "code = map(encrypt, [10, 20, 30, 40])\n",
    "\n",
    "code_product = reduce(multiply, code)\n",
    "\n",
    "product = RSA_Decrypt(code_product, public_key, private_key);\n",
    "\n",
    "@show product"
   ]
  },
  {
   "cell_type": "code",
   "execution_count": null,
   "id": "fe75273f",
   "metadata": {},
   "outputs": [],
   "source": [
    "gcdx(5, 25)"
   ]
  },
  {
   "cell_type": "markdown",
   "id": "50b02cf6",
   "metadata": {},
   "source": [
    "#### Find Square Root"
   ]
  },
  {
   "cell_type": "code",
   "execution_count": null,
   "id": "d5ec9f6f",
   "metadata": {},
   "outputs": [],
   "source": [
    "encrypt = x -> RSA_Encrypt(x, public_key);\n",
    "multiply = (x, y) -> mod(Int128(x) * Int128(y), n)\n",
    "power = (x, y) -> mod(reduce(multiply, ones(Int, y) * x), n);\n",
    "\n",
    "message = 9;\n",
    "\n",
    "@show code = encrypt(message)\n",
    "@show mod(encrypt(3), n)\n",
    "@show mod(encrypt(3)^2, n)\n",
    "\n",
    "# c, a, b = gcdx(code, 2)\n",
    "# @show mod(a, n), mod(b,n)\n",
    "# @show mod(b,n) < code\n",
    "# @show encrypt(3) < mod(b,n)\n",
    "\n",
    "_, _, limit = gcdx(code, 2)\n",
    "limit = mod(limit, n)\n",
    "\n",
    "code_root = 0;\n",
    "for i = 2:limit\n",
    "#     if powermod(i, 2, n) == code\n",
    "    if gcd(i, code) == i\n",
    "        code_root = i\n",
    "        break;\n",
    "    end    \n",
    "end\n",
    "\n",
    "@show code_root\n",
    "root = RSA_Decrypt(code_root, public_key, private_key);\n",
    "\n",
    "@show root"
   ]
  },
  {
   "cell_type": "markdown",
   "id": "131870a0",
   "metadata": {},
   "source": [
    "### Find Geometric Mean"
   ]
  },
  {
   "cell_type": "code",
   "execution_count": null,
   "id": "f8297c98",
   "metadata": {},
   "outputs": [],
   "source": [
    "encrypt = x -> RSA_Encrypt(x, public_key);\n",
    "multiply = (x, y) -> mod(Int128(x) * Int128(y), n)\n",
    "power = (x, y) -> mod(reduce(multiply, ones(Int, y) * x), n);\n",
    "\n",
    "values = [10, 20, 30, 40]\n",
    "values = [2, 2, 2, 2]\n",
    "\n",
    "code = map(encrypt, values)\n",
    "\n",
    "code_product = reduce(multiply, code)\n",
    "\n",
    "num = length(code)\n",
    "\n",
    "code_root = 0\n",
    "for i = 2:code_product\n",
    "    if powermod(i, num, n) == code_product\n",
    "        code_root = i\n",
    "        break;\n",
    "    end    \n",
    "end\n",
    "\n",
    "@show code_root\n",
    "avg = RSA_Decrypt(code_root, public_key, private_key);\n",
    "\n",
    "@show avg"
   ]
  },
  {
   "cell_type": "markdown",
   "id": "784250da",
   "metadata": {},
   "source": [
    "### Logic\n",
    "\n",
    "#### AND\n",
    "\n",
    "The logical AND operation is analoguos to multiplication\n"
   ]
  },
  {
   "cell_type": "code",
   "execution_count": null,
   "id": "e3e5d682",
   "metadata": {},
   "outputs": [],
   "source": [
    "message = 1\n",
    "n, e = public_key;\n",
    "ciphertext = RSA_Encrypt(message, public_key);\n",
    "@show ciphertext\n",
    "state = RSA_Encrypt(0, public_key);\n",
    "@show state\n",
    "decoded = RSA_Decrypt(mod(ciphertext * state, n), public_key, private_key);\n",
    "@show decoded"
   ]
  },
  {
   "cell_type": "markdown",
   "id": "34564c28",
   "metadata": {},
   "source": [
    "Of course, due to our basic implementation of RSA Encryption, encrypting a 1 or a 0 is pretty useless\n",
    "\n",
    "Their identitiy properties make it a obvious to decode encryption.\n",
    "\n",
    "$0^n=0$\n",
    "\n",
    "$1^n=1$\n",
    "\n",
    "Instead, we could consider adding randomness to obviouscate it\n",
    "\n",
    "In this new representation, we represent 0 as any even number, and 1 with any odd number.\n",
    "\n",
    "Bob calculatestheir producct, oblivious to their encrypted meaning (without significant work which is not useful int he future)\n",
    "\n",
    "When Alice recieves and decrypts the product, she checks if the product is odd to see if it is true.\n"
   ]
  },
  {
   "cell_type": "code",
   "execution_count": 4,
   "id": "9d9b8da0",
   "metadata": {},
   "outputs": [
    {
     "name": "stdout",
     "output_type": "stream",
     "text": [
      "ciphertext = 1320856871\n",
      "cipherState = 4024441177\n",
      "decoded = 5760725865\n",
      "mod(decoded, 2) = 1\n"
     ]
    }
   ],
   "source": [
    "using Random\n",
    "\n",
    "message = 1\n",
    "noise = rand(2:n-2)\n",
    "randomisedMessage = noise + mod(noise, 2) + message;\n",
    "\n",
    "ciphertext = RSA_Encrypt(randomisedMessage, public_key);\n",
    "@show ciphertext\n",
    "\n",
    "state = 0;\n",
    "noise = rand(2:n-2);\n",
    "randomisedState = noise + mod(noise, 2) + state;\n",
    "\n",
    "cipherState = RSA_Encrypt(randomisedState, public_key);\n",
    "@show cipherState\n",
    "\n",
    "decoded = RSA_Decrypt(mod(ciphertext * cipherState, n), public_key, private_key);\n",
    "@show decoded\n",
    "@show mod(decoded, 2);"
   ]
  },
  {
   "cell_type": "code",
   "execution_count": 14,
   "id": "dd909eb7",
   "metadata": {},
   "outputs": [
    {
     "name": "stdout",
     "output_type": "stream",
     "text": [
      "h = RSA_Encrypt(2, public_key) = 2227520075\n",
      "l = RSA_Encrypt(2, public_key) = 2227520075\n",
      "mod(randomisedMessage, 1) = 0\n",
      "mod(randomisedState, 2) = 0\n"
     ]
    },
    {
     "data": {
      "text/plain": [
       "0"
      ]
     },
     "execution_count": 14,
     "metadata": {},
     "output_type": "execute_result"
    }
   ],
   "source": [
    "#  Potential issue\n",
    "\n",
    "@show h = RSA_Encrypt(2, public_key);\n",
    "@show l = RSA_Encrypt(2, public_key);\n",
    "@show mod(randomisedMessage, 2)\n",
    "@show mod(randomisedState, 2)"
   ]
  },
  {
   "cell_type": "markdown",
   "id": "2fe3a28d",
   "metadata": {},
   "source": [
    "#### NOT\n",
    "The not operation in this randomised case needs to be a multiplication which takes use from odd to even, and vica versa.\n",
    "\n",
    "even x even = even\n",
    "\n",
    "even x odd = even\n",
    "\n",
    "ood x odd = odd\n",
    "\n",
    "even / even = odd or even\n",
    "\n",
    "even / odd = even\n"
   ]
  },
  {
   "cell_type": "markdown",
   "id": "458dfcf1",
   "metadata": {},
   "source": [
    "#### OR\n",
    "Normally the OR operation would require something analoguous to an add, but if we apply de Morgans theorem\n",
    "    \n",
    "NOT()"
   ]
  },
  {
   "cell_type": "markdown",
   "id": "c01ffe0a",
   "metadata": {},
   "source": [
    "### Game of Life"
   ]
  },
  {
   "cell_type": "code",
   "execution_count": null,
   "id": "65795977",
   "metadata": {},
   "outputs": [],
   "source": [
    "function encode(table)\n",
    "    for element\n",
    "        rbase = randint(n);\n",
    "        reven = r + mod(r, 2)\n",
    "        randomisedElement = reven + element;\n",
    "    end\n",
    "end\n",
    "\n",
    "\n",
    "\n",
    "function play(table)\n",
    "    for i\n",
    "        for j\n",
    "            # a, b, c, d, e, f, g, h\n",
    "        end\n",
    "    end\n",
    "end\n",
    "\n",
    "\n",
    "\n",
    "\n",
    "\n",
    "\n",
    "\n",
    "\n",
    "\n"
   ]
  }
 ],
 "metadata": {
  "kernelspec": {
   "display_name": "Julia 1.6.3",
   "language": "julia",
   "name": "julia-1.6"
  },
  "language_info": {
   "file_extension": ".jl",
   "mimetype": "application/julia",
   "name": "julia",
   "version": "1.6.3"
  }
 },
 "nbformat": 4,
 "nbformat_minor": 5
}
